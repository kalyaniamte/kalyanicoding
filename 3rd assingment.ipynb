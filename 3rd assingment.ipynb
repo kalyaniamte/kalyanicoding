{
 "cells": [
  {
   "cell_type": "markdown",
   "id": "d5b7b3b7-da2d-482b-8ebb-f065a30abc94",
   "metadata": {},
   "source": [
    "# Tuple"
   ]
  },
  {
   "cell_type": "markdown",
   "id": "a795d0ed-f0d9-483a-8beb-b35a7607f4d3",
   "metadata": {},
   "source": [
    "Q1: Join Tuples if similar initial element\n",
    "While working with Python tuples, we can have a problem in which we need to perform concatenation of records from the similarity of initial element. This problem can have applications in data domains such as Data Science.\n",
    "\n",
    "For eg.\n",
    "\n",
    "Input  : test_list = [(5, 6), (5, 7), (5, 8), (6, 10), (7, 13)] \n",
    "Output : [(5, 6, 7, 8), (6, 10), (7, 13)] "
   ]
  },
  {
   "cell_type": "code",
   "execution_count": 3,
   "id": "a82c61f9-3458-4177-81ad-e99af6df2168",
   "metadata": {},
   "outputs": [
    {
     "name": "stdout",
     "output_type": "stream",
     "text": [
      "[(5, 6, 7, 8), (6, 10), (7, 13)]\n"
     ]
    }
   ],
   "source": [
    "def join_tuples_by_initial_element(test_list):\n",
    "    # Create a dictionary to store tuples grouped by their initial element\n",
    "    grouped_dict = {}\n",
    "    \n",
    "    # Iterate through each tuple in the list\n",
    "    for tup in test_list:\n",
    "        key = tup[0]  # Use the first element of the tuple as the key\n",
    "        if key in grouped_dict:\n",
    "            grouped_dict[key].extend(tup[1:])  # Extend the existing list with remaining elements\n",
    "        else:\n",
    "            grouped_dict[key] = list(tup)  # Create a new list with the tuple elements\n",
    "    \n",
    "    # Convert the dictionary values (lists) back to tuples\n",
    "    result = [tuple(v) for v in grouped_dict.values()]\n",
    "    \n",
    "    return result\n",
    "\n",
    "# Example usage:\n",
    "test_list = [(5, 6), (5, 7), (5, 8), (6, 10), (7, 13)]\n",
    "output = join_tuples_by_initial_element(test_list)\n",
    "print(output)  # Output: [(5, 6, 7, 8), (6, 10), (7, 13)]"
   ]
  },
  {
   "cell_type": "markdown",
   "id": "31d393a8-b0ef-44d0-99bd-36701be1934e",
   "metadata": {},
   "source": [
    "Q2: Multiply Adjacent elements (both side) and take sum of right and lest side multiplication result.\n",
    "For eg.\n",
    "\n",
    "The original tuple : (1, 5, 7, 8, 10)\n",
    "Resultant tuple after multiplication : \n",
    "\n",
    "(1*5, 1*5+5*7, 7*5 + 7*8, 8*7 + 8*10, 10*8) -> (5, 40, 91, 136, 80)\n",
    "\n",
    "output-(5, 40, 91, 136, 80)"
   ]
  },
  {
   "cell_type": "code",
   "execution_count": 4,
   "id": "b9f0f97c-6894-49f2-ad70-cb7b967a578d",
   "metadata": {},
   "outputs": [
    {
     "name": "stdout",
     "output_type": "stream",
     "text": [
      "(5, 40, 91, 136, 80)\n"
     ]
    }
   ],
   "source": [
    "def multiply_adjacent_elements(tuple_in):\n",
    "    n = len(tuple_in)\n",
    "    if n < 3:\n",
    "        return tuple_in  # if tuple has less than 3 elements, return as is\n",
    "\n",
    "    result = []\n",
    "    for i in range(n):\n",
    "        if i == 0:\n",
    "            # First element: multiply with the next element\n",
    "            result.append(tuple_in[i] * tuple_in[i+1])\n",
    "        elif i == n - 1:\n",
    "            # Last element: multiply with the previous element\n",
    "            result.append(tuple_in[i-1] * tuple_in[i])\n",
    "        else:\n",
    "            # Middle elements: multiply with both previous and next elements\n",
    "            result.append(tuple_in[i-1] * tuple_in[i] + tuple_in[i] * tuple_in[i+1])\n",
    "\n",
    "    return tuple(result)\n",
    "\n",
    "# Example usage:\n",
    "original_tuple = (1, 5, 7, 8, 10)\n",
    "result_tuple = multiply_adjacent_elements(original_tuple)\n",
    "print(result_tuple)"
   ]
  },
  {
   "cell_type": "markdown",
   "id": "0cf96703-0acf-443f-9f37-fdbe411070ff",
   "metadata": {},
   "source": [
    "Q3: Check is tuples are same or not?\n",
    "Two tuples would be same if both tuples have same element at same index\n",
    "\n",
    "t1 = (1,2,3,0)\n",
    "t2 = (0,1,2,3)\n",
    "\n",
    "t1 and t2 are not same"
   ]
  },
  {
   "cell_type": "code",
   "execution_count": 5,
   "id": "65de853a-a8fd-4717-b35e-66b9950a2780",
   "metadata": {},
   "outputs": [
    {
     "name": "stdout",
     "output_type": "stream",
     "text": [
      "t1 and t2 are not the same\n"
     ]
    }
   ],
   "source": [
    "def are_tuples_same(t1, t2):\n",
    "    if len(t1) != len(t2):\n",
    "        return False\n",
    "    \n",
    "    for i in range(len(t1)):\n",
    "        if t1[i] != t2[i]:\n",
    "            return False\n",
    "    \n",
    "    return True\n",
    "\n",
    "# Example tuples\n",
    "t1 = (1, 2, 3, 0)\n",
    "t2 = (0, 1, 2, 3)\n",
    "\n",
    "# Check if they are the same\n",
    "if are_tuples_same(t1, t2):\n",
    "    print(\"t1 and t2 are the same\")\n",
    "else:\n",
    "    print(\"t1 and t2 are not the same\")"
   ]
  },
  {
   "cell_type": "markdown",
   "id": "a7108691-9889-4d89-9ebb-705c05c12f6b",
   "metadata": {},
   "source": [
    "Q4: Count no of tuples, list and set from a list\n",
    "list1 = [{'hi', 'bye'},{'Geeks', 'forGeeks'},('a', 'b'),['hi', 'bye'],['a', 'b']]\n",
    "Output:\n",
    "\n",
    "List-2\n",
    "Set-2\n",
    "Tuples-1"
   ]
  },
  {
   "cell_type": "code",
   "execution_count": 7,
   "id": "6a02ceb3-a499-47a0-bd02-5feb5ae63d8e",
   "metadata": {},
   "outputs": [
    {
     "name": "stdout",
     "output_type": "stream",
     "text": [
      "List-2\n",
      "Set-2\n",
      "Tuples-1\n"
     ]
    }
   ],
   "source": [
    "list1 = [{'hi', 'bye'}, {'Geeks', 'forGeeks'}, ('a', 'b'), ['hi', 'bye'], ['a', 'b']]\n",
    "\n",
    "# Initialize counts\n",
    "list_count = 0\n",
    "set_count = 0\n",
    "tuple_count = 0\n",
    "\n",
    "# Iterate through elements in list1\n",
    "for elem in list1:\n",
    "    if isinstance(elem, list):\n",
    "        list_count += 1\n",
    "    elif isinstance(elem, set):\n",
    "        set_count += 1\n",
    "    elif isinstance(elem, tuple):\n",
    "        tuple_count += 1\n",
    "\n",
    "# Print the counts\n",
    "print(f\"List-{list_count}\")\n",
    "print(f\"Set-{set_count}\")\n",
    "print(f\"Tuples-{tuple_count}\")"
   ]
  },
  {
   "cell_type": "markdown",
   "id": "b0da32c1-b1be-4d52-892e-481571486e38",
   "metadata": {},
   "source": [
    "Q5: Shortlist Students for a Job role\n",
    "Ask user to input students record and store in tuples for each record. Then Ask user to input three things he wants in the candidate- Primary Skill, Higher Education, Year of Graduation.\n",
    "\n",
    "Show every students record in form of tuples if matches all required criteria.\n",
    "\n",
    "It is assumed that there will be only one primry skill.\n",
    "\n",
    "If no such candidate found, print No such candidate"
   ]
  },
  {
   "cell_type": "code",
   "execution_count": 1,
   "id": "88c6c658-cebb-4b37-9f5a-8dd2a2c7ce38",
   "metadata": {},
   "outputs": [
    {
     "name": "stdin",
     "output_type": "stream",
     "text": [
      "Enter No of records-  2\n"
     ]
    },
    {
     "name": "stdout",
     "output_type": "stream",
     "text": [
      "Enter Details of student-1\n"
     ]
    },
    {
     "name": "stdin",
     "output_type": "stream",
     "text": [
      "Enter Student name-  kalyani\n",
      "Enter Higher Education-  BCS\n",
      "Enter Primary Skill-  python\n",
      "Enter Year of Graduation-  2025\n"
     ]
    },
    {
     "name": "stdout",
     "output_type": "stream",
     "text": [
      "Enter Details of student-2\n"
     ]
    },
    {
     "name": "stdin",
     "output_type": "stream",
     "text": [
      "Enter Student name-  disha\n",
      "Enter Higher Education-  b.tech\n",
      "Enter Primary Skill-  java\n",
      "Enter Year of Graduation-  2024\n"
     ]
    },
    {
     "name": "stdout",
     "output_type": "stream",
     "text": [
      "\n",
      "Enter Job Role Requirement\n"
     ]
    },
    {
     "name": "stdin",
     "output_type": "stream",
     "text": [
      "Enter Skill-  python\n",
      "Enter Higher Education-  BCS\n",
      "Enter Year of Graduation-  2025\n"
     ]
    },
    {
     "name": "stdout",
     "output_type": "stream",
     "text": [
      "('kalyani', 'BCS', 'python', 2025)\n"
     ]
    }
   ],
   "source": [
    "def get_student_records(num_records):\n",
    "    students = []\n",
    "    for i in range(num_records):\n",
    "        print(f\"Enter Details of student-{i + 1}\")\n",
    "        name = input(\"Enter Student name- \")\n",
    "        education = input(\"Enter Higher Education- \")\n",
    "        skill = input(\"Enter Primary Skill- \")\n",
    "        year = int(input(\"Enter Year of Graduation- \"))\n",
    "        students.append((name, education, skill, year))\n",
    "    return students\n",
    "\n",
    "def get_job_requirements():\n",
    "    print(\"\\nEnter Job Role Requirement\")\n",
    "    skill = input(\"Enter Skill- \")\n",
    "    education = input(\"Enter Higher Education- \")\n",
    "    year = int(input(\"Enter Year of Graduation- \"))\n",
    "    return skill, education, year\n",
    "\n",
    "def shortlist_students(students, requirements):\n",
    "    skill, education, year = requirements\n",
    "    shortlisted = [student for student in students if student[2] == skill and student[1] == education and student[3] == year]\n",
    "    return shortlisted\n",
    "\n",
    "# Main program\n",
    "num_records = int(input(\"Enter No of records- \"))\n",
    "students = get_student_records(num_records)\n",
    "requirements = get_job_requirements()\n",
    "\n",
    "shortlisted_students = shortlist_students(students, requirements)\n",
    "\n",
    "if shortlisted_students:\n",
    "    for student in shortlisted_students:\n",
    "        print(student)\n",
    "else:\n",
    "    print(\"No such candidate\")"
   ]
  },
  {
   "cell_type": "markdown",
   "id": "e47aecad-2821-46bd-8468-07ac35fda775",
   "metadata": {},
   "source": [
    "# set"
   ]
  },
  {
   "cell_type": "markdown",
   "id": "04c9c045-c312-4a5c-9f53-8cd423e1c3d3",
   "metadata": {},
   "source": [
    "Q1: Write a program to find set of common elements in three lists using sets.\n",
    "Input : ar1 = [1, 5, 10, 20, 40, 80]\n",
    "        ar2 = [6, 7, 20, 80, 100]\n",
    "        ar3 = [3, 4, 15, 20, 30, 70, 80, 120]\n",
    "\n",
    "Output : [80, 20]"
   ]
  },
  {
   "cell_type": "code",
   "execution_count": 8,
   "id": "d9c96794-ed6f-410e-a936-4247b1c41fbb",
   "metadata": {},
   "outputs": [
    {
     "name": "stdout",
     "output_type": "stream",
     "text": [
      "Common elements: [80, 20]\n"
     ]
    }
   ],
   "source": [
    "def find_common_elements(ar1, ar2, ar3):\n",
    "    # Convert lists to sets\n",
    "    set1 = set(ar1)\n",
    "    set2 = set(ar2)\n",
    "    set3 = set(ar3)\n",
    "    \n",
    "    # Find intersection of the three sets\n",
    "    common_elements = set1.intersection(set2, set3)\n",
    "    \n",
    "    # Convert set back to list and return\n",
    "    return list(common_elements)\n",
    "\n",
    "# Example usage:\n",
    "ar1 = [1, 5, 10, 20, 40, 80]\n",
    "ar2 = [6, 7, 20, 80, 100]\n",
    "ar3 = [3, 4, 15, 20, 30, 70, 80, 120]\n",
    "\n",
    "common_elements = find_common_elements(ar1, ar2, ar3)\n",
    "print(\"Common elements:\", common_elements)"
   ]
  },
  {
   "cell_type": "markdown",
   "id": "ca7dd9c4-ce58-4c98-b024-e56d21b73338",
   "metadata": {},
   "source": [
    "Q2: Write a program to count unique number of vowels using sets in a given string. Lowercase and upercase vowels will be taken as different.\n",
    "Input:\n",
    "\n",
    "Str1 = \"hands-on data science mentorship progrAm with live classes at affordable fee only on CampusX\"\n",
    "Output:\n",
    "\n",
    "No of unique vowels-6"
   ]
  },
  {
   "cell_type": "code",
   "execution_count": 10,
   "id": "ac058d92-4d1b-4748-9fea-54c29a960181",
   "metadata": {},
   "outputs": [
    {
     "name": "stdout",
     "output_type": "stream",
     "text": [
      "No of unique vowels: 6\n"
     ]
    }
   ],
   "source": [
    "def count_unique_vowels(input_str):\n",
    "    vowels = set(\"aeiouAEIOU\")  # Using set for unique vowels, considering both cases\n",
    "    unique_vowels = set()  # Initialize an empty set for unique vowels found\n",
    "    \n",
    "    # Iterate through each character in the input string\n",
    "    for char in input_str:\n",
    "        if char in vowels:\n",
    "            unique_vowels.add(char)  # Add the vowel to the set of unique vowels\n",
    "    \n",
    "    return len(unique_vowels)  # Return the number of unique vowels found\n",
    "\n",
    "# Example usage:\n",
    "Str1 = \"hands-on data science mentorship progrAm with live classes at affordable fee only on CampusX\"\n",
    "result = count_unique_vowels(Str1)\n",
    "print(\"No of unique vowels:\",result)"
   ]
  },
  {
   "cell_type": "markdown",
   "id": "79415fe9-18f9-4f03-97db-db4f01f149ed",
   "metadata": {},
   "source": [
    "Q3: Write a program to Check if a given string is binary string of or not.\n",
    "A string is said to be binary if it's consists of only two unique characters.\n",
    "\n",
    "Take string input from user.\n",
    "\n",
    "Input: str = \"01010101010\"\n",
    "Output: Yes\n",
    "\n",
    "Input: str = \"1222211\"\n",
    "Output: Yes\n",
    "\n",
    "Input: str = \"Campusx\"\n",
    "Output: No"
   ]
  },
  {
   "cell_type": "code",
   "execution_count": 17,
   "id": "45877499-4176-4ef2-af8b-949aba0c204f",
   "metadata": {},
   "outputs": [
    {
     "name": "stdin",
     "output_type": "stream",
     "text": [
      "Enter a string:  hi hello\n"
     ]
    },
    {
     "name": "stdout",
     "output_type": "stream",
     "text": [
      "Output: No\n"
     ]
    }
   ],
   "source": [
    "def is_binary_string(s):\n",
    "    # Convert string to a set to get unique characters\n",
    "    unique_chars = set(s)\n",
    "    \n",
    "    # Check if there are exactly two unique characters\n",
    "    if len(unique_chars) == 2:\n",
    "        return True\n",
    "    else:\n",
    "        return False\n",
    "\n",
    "# Input string from user\n",
    "input_str = input(\"Enter a string: \")\n",
    "\n",
    "# Check if it's a binary string\n",
    "if is_binary_string(input_str):\n",
    "    print(\"Output: Yes\")\n",
    "else:\n",
    "    print(\"Output: No\")"
   ]
  },
  {
   "cell_type": "markdown",
   "id": "dbf817a6-9d55-466d-a3c9-c90601bd97de",
   "metadata": {},
   "source": [
    "Q4: find union of n arrays.\n",
    "Example 1:\n",
    "\n",
    "Input:\n",
    "\n",
    "[[1, 2, 2, 4, 3, 6],\n",
    " [5, 1, 3, 4],\n",
    " [9, 5, 7, 1],\n",
    " [2, 4, 1, 3]]\n",
    "Output:\n",
    "\n",
    "[1, 2, 3, 4, 5, 6, 7, 9]"
   ]
  },
  {
   "cell_type": "code",
   "execution_count": 11,
   "id": "a0d3bc7c-014b-4497-8ae8-e95776e352ab",
   "metadata": {},
   "outputs": [
    {
     "name": "stdout",
     "output_type": "stream",
     "text": [
      "[1, 2, 3, 4, 5, 6, 7, 9]\n"
     ]
    }
   ],
   "source": [
    "def union_of_arrays(arrays):\n",
    "    union_set = set()\n",
    "    for arr in arrays:\n",
    "        union_set.update(arr)\n",
    "    return list(union_set)\n",
    "\n",
    "# Example usage:\n",
    "arrays = [\n",
    "    [1, 2, 2, 4, 3, 6],\n",
    "    [5, 1, 3, 4],\n",
    "    [9, 5, 7, 1],\n",
    "    [2, 4, 1, 3]\n",
    "]\n",
    "\n",
    "result = union_of_arrays(arrays)\n",
    "print(result)  # Output: [1, 2, 3, 4, 5, 6, 7, 9]"
   ]
  },
  {
   "cell_type": "markdown",
   "id": "3f5deb6b-0a72-4d89-848b-eea112bf3e3d",
   "metadata": {},
   "source": [
    "Q5: Intersection of two lists. Intersection of two list means we need to take all those elements which are common to both of the initial lists and store them into another list. Only use using list-comprehension.\n",
    "Example 1:\n",
    "\n",
    "Input:\n",
    "\n",
    "lst1 = {15, 9, 10, 56, 23, 78, 5, 4, 9}\n",
    "lst2 = {9, 4, 5, 36, 47, 26, 10, 45, 87}\n",
    "Output:\n",
    "\n",
    "[9, 10, 4, 5]"
   ]
  },
  {
   "cell_type": "code",
   "execution_count": 12,
   "id": "d05cf9e4-2947-490f-8a60-ad9a6c02a2ab",
   "metadata": {},
   "outputs": [
    {
     "name": "stdout",
     "output_type": "stream",
     "text": [
      "[4, 5, 9, 10]\n"
     ]
    }
   ],
   "source": [
    "lst1 = {15, 9, 10, 56, 23, 78, 5, 4, 9}\n",
    "lst2 = {9, 4, 5, 36, 47, 26, 10, 45, 87}\n",
    "\n",
    "# Convert lists to sets (if they are not already sets)\n",
    "set1 = set(lst1)\n",
    "set2 = set(lst2)\n",
    "\n",
    "# Find intersection using list comprehension\n",
    "intersection = [elem for elem in set1 if elem in set2]\n",
    "\n",
    "print(intersection)"
   ]
  },
  {
   "cell_type": "markdown",
   "id": "62fc8395-fb32-4e39-8b5b-4a7a663cc52e",
   "metadata": {},
   "source": [
    "# Dictionary"
   ]
  },
  {
   "cell_type": "markdown",
   "id": "b82f816b-0920-4996-a5d4-56bd039fca67",
   "metadata": {},
   "source": [
    "Q1: Key with maximum unique values\n",
    "Given a dictionary with values list, extract key whose value has most unique values.\n",
    "\n",
    "Example 1:\n",
    "\n",
    "Input:\n",
    "\n",
    "test_dict = {\"CampusX\" : [5, 7, 9, 4, 0], \"is\" : [6, 7, 4, 3, 3], \"Best\" : [9, 9, 6, 5, 5]}\n",
    "Output:\n",
    "\n",
    "CampusX"
   ]
  },
  {
   "cell_type": "code",
   "execution_count": 2,
   "id": "19c86c42-d9da-4c18-9325-ffc8bb858295",
   "metadata": {},
   "outputs": [
    {
     "name": "stdout",
     "output_type": "stream",
     "text": [
      "CampusX\n",
      "Best\n"
     ]
    }
   ],
   "source": [
    "def key_with_max_unique_values(test_dict):\n",
    "    max_unique_count = 0\n",
    "    max_key = None\n",
    "    \n",
    "    for key, values in test_dict.items():\n",
    "        unique_values_count = len(set(values))\n",
    "        if unique_values_count > max_unique_count:\n",
    "            max_unique_count = unique_values_count\n",
    "            max_key = key\n",
    "            \n",
    "    return max_key\n",
    "\n",
    "# Example usage 1\n",
    "test_dict1 = {\"CampusX\" : [5, 7, 9, 4, 0], \"is\" : [6, 7, 4, 3, 3], \"Best\" : [9, 9, 6, 5, 5]}\n",
    "print(key_with_max_unique_values(test_dict1))  # Output: CampusX\n",
    "\n",
    "# Example usage 2\n",
    "test_dict2 = {\"CampusX\" : [5, 7, 7, 7, 7], \"is\" : [6, 7, 7, 7], \"Best\" : [9, 9, 6, 5, 5]}\n",
    "print(key_with_max_unique_values(test_dict2)) # output:Best"
   ]
  },
  {
   "cell_type": "markdown",
   "id": "d64d6678-e03c-4717-bf67-bfec0782bd78",
   "metadata": {},
   "source": [
    "Q2: Replace words from Dictionary. Given String, replace it’s words from lookup dictionary.\n",
    "Example 1:\n",
    "\n",
    "Input:\n",
    "\n",
    "test_str = 'CampusX best for DS students.'\n",
    "repl_dict = {\"best\" : \"is the best channel\", \"DS\" : \"Data-Science\"}\n",
    "Output:\n",
    "\n",
    "CampusX is the best channel for Data-Science students."
   ]
  },
  {
   "cell_type": "code",
   "execution_count": 14,
   "id": "02a46ff0-0a02-4b13-9244-831fae192cb4",
   "metadata": {},
   "outputs": [
    {
     "name": "stdout",
     "output_type": "stream",
     "text": [
      "CampusX is the best channel for Data-Science students.\n"
     ]
    }
   ],
   "source": [
    "def replace_words_from_dict(test_str, repl_dict):\n",
    "    # Split the input string into words\n",
    "    words = test_str.split()\n",
    "    \n",
    "    # Initialize a list to store the modified words\n",
    "    replaced_words = []\n",
    "    \n",
    "    # Iterate through each word in the list\n",
    "    for word in words:\n",
    "        # Check if the word exists in the replacement dictionary\n",
    "        if word in repl_dict:\n",
    "            replaced_words.append(repl_dict[word])  # Replace with the value from the dictionary\n",
    "        else:\n",
    "            replaced_words.append(word)  # Keep the original word if not found in the dictionary\n",
    "    \n",
    "    # Join the list of words into a single string\n",
    "    replaced_str = ' '.join(replaced_words)\n",
    "    \n",
    "    return replaced_str\n",
    "\n",
    "# Example usage:\n",
    "test_str = 'CampusX best for DS students.'\n",
    "repl_dict = {\"best\": \"is the best channel\", \"DS\": \"Data-Science\"}\n",
    "\n",
    "output_str = replace_words_from_dict(test_str, repl_dict)\n",
    "print(output_str)  # Output: CampusX is the best channel for Data-Science students."
   ]
  },
  {
   "cell_type": "markdown",
   "id": "7c1e3b89-8b6a-4975-838a-c3c668341fbd",
   "metadata": {},
   "source": [
    "Q3: Convert List to List of dictionaries. Given list values and keys list, convert these values to key value pairs in form of list of dictionaries.\n",
    "Example 1:\n",
    "\n",
    "Input:\n",
    "\n",
    "test_list = [\"DataScience\", 3, \"is\", 8]\n",
    "key_list = [\"name\", \"id\"]\n",
    "Output:\n",
    "\n",
    "[{'name': 'DataScience', 'id': 3}, {'name': 'is', 'id': 8}]"
   ]
  },
  {
   "cell_type": "code",
   "execution_count": 15,
   "id": "cc943b56-627c-4437-a41c-e70b33697ad3",
   "metadata": {},
   "outputs": [
    {
     "name": "stdout",
     "output_type": "stream",
     "text": [
      "[{'name': 'DataScience', 'id': 3}, {'name': 'is', 'id': 8}]\n"
     ]
    }
   ],
   "source": [
    "def convert_to_dict_list(input_list, key_list):\n",
    "    # Calculate number of dictionaries needed\n",
    "    num_dicts = len(input_list) // len(key_list)\n",
    "    \n",
    "    # Initialize an empty list to store dictionaries\n",
    "    result_list = []\n",
    "    \n",
    "    # Iterate over the range of number of dictionaries\n",
    "    for i in range(num_dicts):\n",
    "        # Calculate starting index for each dictionary\n",
    "        start_idx = i * len(key_list)\n",
    "        # Slice the input list to get the current dictionary's values\n",
    "        values = input_list[start_idx:start_idx + len(key_list)]\n",
    "        # Create dictionary by zipping keys and values\n",
    "        dictionary = dict(zip(key_list, values))\n",
    "        # Append dictionary to result list\n",
    "        result_list.append(dictionary)\n",
    "    \n",
    "    return result_list\n",
    "\n",
    "# Example usage:\n",
    "test_list = [\"DataScience\", 3, \"is\", 8]\n",
    "key_list = [\"name\", \"id\"]\n",
    "output = convert_to_dict_list(test_list, key_list)\n",
    "print(output)"
   ]
  },
  {
   "cell_type": "markdown",
   "id": "1e9a9a5c-9410-47ba-9f1f-6b9f3cb031e7",
   "metadata": {},
   "source": [
    "Q4: Convert a list of Tuples into Dictionary.\n",
    "Example 1:\n",
    "\n",
    "Input:\n",
    "\n",
    "[(\"akash\", 10), (\"gaurav\", 12), (\"anand\", 14), (\"suraj\", 20), (\"akhil\", 25), (\"ashish\", 30)]\n",
    "Output:\n",
    "\n",
    "{'akash': [10], 'gaurav': [12], 'anand': [14], 'suraj': [20], 'akhil': [25], 'ashish': [30]}"
   ]
  },
  {
   "cell_type": "code",
   "execution_count": 15,
   "id": "bd30b8c7-cc3d-4e09-8b99-675df6590e45",
   "metadata": {},
   "outputs": [
    {
     "name": "stdout",
     "output_type": "stream",
     "text": [
      "{'akash': [10], 'gaurav': [12], 'anand': [14], 'suraj': [20], 'akhil': [25], 'ashish': [30]}\n"
     ]
    }
   ],
   "source": [
    "# Input list of tuples\n",
    "input_list = [(\"akash\", 10), (\"gaurav\", 12), (\"anand\", 14), (\"suraj\", 20), (\"akhil\", 25), (\"ashish\", 30)]\n",
    "\n",
    "# Convert list of tuples to dictionary\n",
    "output_dict = {key: [value] for key, value in input_list}\n",
    "\n",
    "# Print the output dictionary\n",
    "print(output_dict)"
   ]
  },
  {
   "cell_type": "markdown",
   "id": "ae9a8ee1-2b54-401c-87a2-64d86635169f",
   "metadata": {},
   "source": [
    "Q5: Sort Dictionary key and values List.\n",
    "Example 1:\n",
    "\n",
    "Input:\n",
    "\n",
    "{'c': [3], 'b': [12, 10], 'a': [19, 4]}\n",
    "Output:\n",
    "\n",
    "{'a': [4, 19], 'b': [10, 12], 'c': [3]}"
   ]
  },
  {
   "cell_type": "code",
   "execution_count": 16,
   "id": "e27fcda4-bfe2-42c3-9f2f-cbd157e7b1bf",
   "metadata": {},
   "outputs": [
    {
     "name": "stdout",
     "output_type": "stream",
     "text": [
      "{'a': [4, 19], 'b': [10, 12], 'c': [3]}\n"
     ]
    }
   ],
   "source": [
    "def sort_dict_values(input_dict):\n",
    "    sorted_dict = {}  # Initialize an empty dictionary to store the sorted results\n",
    "    \n",
    "    # Step 1: Sort keys alphabetically\n",
    "    sorted_keys = sorted(input_dict.keys())\n",
    "    \n",
    "    # Step 2: Sort values for each key in ascending order\n",
    "    for key in sorted_keys:\n",
    "        sorted_dict[key] = sorted(input_dict[key])\n",
    "        \n",
    "    return sorted_dict\n",
    "\n",
    "# Example usage:\n",
    "input_dict = {'c': [3], 'b': [12, 10], 'a': [19, 4]}\n",
    "output_dict = sort_dict_values(input_dict)\n",
    "print(output_dict)"
   ]
  },
  {
   "cell_type": "code",
   "execution_count": null,
   "id": "4bf3e339-c698-4c47-baa6-7202c82fd2b9",
   "metadata": {},
   "outputs": [],
   "source": []
  }
 ],
 "metadata": {
  "kernelspec": {
   "display_name": "Python 3 (ipykernel)",
   "language": "python",
   "name": "python3"
  },
  "language_info": {
   "codemirror_mode": {
    "name": "ipython",
    "version": 3
   },
   "file_extension": ".py",
   "mimetype": "text/x-python",
   "name": "python",
   "nbconvert_exporter": "python",
   "pygments_lexer": "ipython3",
   "version": "3.11.7"
  }
 },
 "nbformat": 4,
 "nbformat_minor": 5
}
