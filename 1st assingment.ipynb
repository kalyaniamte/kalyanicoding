{
 "cells": [
  {
   "cell_type": "markdown",
   "id": "bdcc78fd-bb6a-43c6-ba31-edd41b87d57d",
   "metadata": {},
   "source": [
    "1.# write a program that will give you in hand monthly salary after deduction on CTC-HRA(10%),DA(5%),PF(3%) and taxes deduction as below\n",
    " salary(lakhs):tax(%)\n",
    "* below 5:0%\n",
    "* 5-10 : 10%\n",
    "* 10-20: 20%\n",
    "* above20: 30%"
   ]
  },
  {
   "cell_type": "code",
   "execution_count": 2,
   "id": "33433e83-fe39-4f76-bf4b-e29f56741c35",
   "metadata": {},
   "outputs": [
    {
     "name": "stdout",
     "output_type": "stream",
     "text": [
      "In-hand monthly salary: 73800.00\n"
     ]
    }
   ],
   "source": [
    "def calculate_deduction(ctc):\n",
    "    HRA_PERCENTAGE = 10\n",
    "    DA_PERCENTAGE = 5\n",
    "    PF_PERCENTAGE = 3\n",
    "\n",
    "    hra = (HRA_PERCENTAGE / 100) * ctc\n",
    "    da = (DA_PERCENTAGE / 100) * ctc\n",
    "    pf = (PF_PERCENTAGE / 100) * ctc\n",
    "    total_deduction = hra + da + pf\n",
    "    return total_deduction\n",
    "\n",
    "def calculate_tax(taxable_income):\n",
    "    if taxable_income < 5_00_00:\n",
    "        tax_percentage = 0\n",
    "    elif 5_00_00 <= taxable_income < 10_00_000:\n",
    "        tax_percentage = 10\n",
    "    elif 10_00_000 <= taxable_income < 2_00_000:\n",
    "        tax_percentage = 20\n",
    "    else:\n",
    "        tax_percentage = 30\n",
    "    \n",
    "    # Calculate tax amount\n",
    "    tax = (tax_percentage / 100) * taxable_income\n",
    "    return tax\n",
    "\n",
    "def calculate_in_hand_salary(ctc):\n",
    "    total_deduction = calculate_deduction(ctc)\n",
    "    taxable_income = ctc - total_deduction\n",
    "    tax = calculate_tax(taxable_income)\n",
    "    net_income = taxable_income - tax\n",
    "    monthly_in_hand_salary = net_income / 12\n",
    "    return monthly_in_hand_salary\n",
    "\n",
    "ctc = 12_00_000\n",
    "monthly_salary = calculate_in_hand_salary(ctc)\n",
    "print(f\"In-hand monthly salary: {monthly_salary:.2f}\")"
   ]
  },
  {
   "cell_type": "markdown",
   "id": "1a06c3f8-c232-4c6b-bbc2-32cfdf2ef005",
   "metadata": {},
   "source": [
    "2.# write a program that take a user input of three angles and will find out whether it can form a triangle or not"
   ]
  },
  {
   "cell_type": "code",
   "execution_count": null,
   "id": "c4f090e5-4b04-428b-ad06-a3ca4540b6cd",
   "metadata": {},
   "outputs": [],
   "source": [
    "a = float(input(\"enter the 1st angle\"))\n",
    "b = float(input(\"enter the 2nd angle\"))\n",
    "c = float(input(\"enter the 3rd angle\"))\n",
    "if a+b+c==180:\n",
    "          print(\"angles you entered will form a triangle\")\n",
    "else:\n",
    "    print(\"angles you entered will not form a triangle\")"
   ]
  },
  {
   "cell_type": "markdown",
   "id": "fb9ac16a-d4b1-44b4-a0a6-04c875596f1b",
   "metadata": {},
   "source": [
    "3.# write a program that will take user input of cost price and selling price and determines whether its a loss or a profit"
   ]
  },
  {
   "cell_type": "code",
   "execution_count": 2,
   "id": "e8509fb7-3883-4476-84d0-05a5f0a03141",
   "metadata": {},
   "outputs": [
    {
     "name": "stdin",
     "output_type": "stream",
     "text": [
      "enter the cost price of an Item: 240\n",
      "enter the selling price of an Item: 420\n"
     ]
    },
    {
     "name": "stdout",
     "output_type": "stream",
     "text": [
      "profit : 180.0\n"
     ]
    }
   ],
   "source": [
    "cost_price=float(input(\"enter the cost price of an Item:\"))\n",
    "selling_price=float(input(\"enter the selling price of an Item:\"))\n",
    "if (selling_price > cost_price):\n",
    "    profit=selling_price - cost_price\n",
    "    print(\"profit :\", profit)\n",
    "elif (cost_price > selling_price):\n",
    "    loss = cost_price . selling_price\n",
    "    print(\"loss:\",loss)\n",
    "else:\n",
    "   print(\"No profit No loss\")\n",
    "    "
   ]
  },
  {
   "cell_type": "markdown",
   "id": "41c8fddc-7910-47f5-9444-e3a6f331e4fb",
   "metadata": {},
   "source": [
    "4.# write a menudriven program\n",
    " 1. cm to ft\n",
    " 2. km to miles\n",
    " 3. USD to INR\n",
    " 4. exit"
   ]
  },
  {
   "cell_type": "code",
   "execution_count": 3,
   "id": "b3f926ac-d263-4b1d-8f4f-ea01b3ce4b25",
   "metadata": {},
   "outputs": [
    {
     "name": "stdin",
     "output_type": "stream",
     "text": [
      "\n",
      "Hii select one option\n",
      "1. cms to ft\n",
      "2. km to miles\n",
      "3. USD to INR\n",
      "4. Exit\n",
      "\n",
      " km\n"
     ]
    },
    {
     "name": "stdout",
     "output_type": "stream",
     "text": [
      "Exit\n"
     ]
    }
   ],
   "source": [
    "menu = input(\"\"\"\n",
    "Hii select one option\n",
    "1. cms to ft\n",
    "2. km to miles\n",
    "3. USD to INR\n",
    "4. Exit\n",
    "\n",
    "\"\"\")\n",
    "if menu == \"1\":\n",
    "    cm = float(input(\"enter your cm value\"))\n",
    "    print(\"ft value is \", 0.03270*cm)\n",
    "elif menu == \"2\":\n",
    "    km = eval(input(\"enter your km value\"))\n",
    "    print(\"miles value is\", 0.52*km)\n",
    "elif menu == \"3\":\n",
    "    USD = eval(input(\"enter your USD value\"))\n",
    "    print(\"INR value is\",73.25*USD)\n",
    "else:\n",
    "   print(\"Exit\")"
   ]
  },
  {
   "cell_type": "markdown",
   "id": "1d3969ad-fb0c-478c-a65e-79c5e74c1a53",
   "metadata": {},
   "source": [
    " problem 5-Exercise 12: Display Fibonacci series up to 10 terms.\n",
    "Note: The Fibonacci Sequence is a series of numbers. The next number is found by adding up the two numbers before it.\n",
    "The first two numbers are 0 and 1. For example, 0, 1, 1, 2, 3, 5, 8, 13, 21. \n",
    "The next number in this series above is 13+21 = 34"
   ]
  },
  {
   "cell_type": "code",
   "execution_count": 6,
   "id": "3d372d52-1dc6-428b-9c7f-256dd9cae9f8",
   "metadata": {},
   "outputs": [
    {
     "name": "stdout",
     "output_type": "stream",
     "text": [
      "0\n",
      "1\n",
      "1\n",
      "2\n",
      "3\n",
      "5\n",
      "8\n",
      "13\n",
      "21\n",
      "34\n"
     ]
    }
   ],
   "source": [
    "num_terms=10\n",
    "a,b=0,1\n",
    "for _ in range(num_terms):\n",
    "    print(a)\n",
    "    temp=a+b\n",
    "    a=b\n",
    "    b=temp"
   ]
  },
  {
   "cell_type": "markdown",
   "id": "e296d1db-50dd-4d1c-88b3-e161926c363c",
   "metadata": {},
   "source": [
    "Problem 6 - Find the factorial of a given number.\n",
    "Write a program to use the loop to find the factorial of a given number.\n",
    "\n",
    "The factorial (symbol: !) means to multiply all whole numbers from the chosen number down to 1.\n",
    "\n",
    "For example: calculate the factorial of 5"
   ]
  },
  {
   "cell_type": "code",
   "execution_count": 1,
   "id": "8b17f01f-e034-4c24-a4c8-7403bbf2fa02",
   "metadata": {},
   "outputs": [
    {
     "name": "stdin",
     "output_type": "stream",
     "text": [
      "give a number 6\n"
     ]
    },
    {
     "name": "stdout",
     "output_type": "stream",
     "text": [
      "720\n"
     ]
    }
   ],
   "source": [
    " #factorial of given number\n",
    "num=int(input(\"give a number\"))\n",
    "fact=1\n",
    "for i in range(1,num+1):\n",
    "    fact=fact*i\n",
    "print(fact)"
   ]
  },
  {
   "cell_type": "markdown",
   "id": "bbdb0b4d-f3c0-4a28-94d1-789578d19583",
   "metadata": {},
   "source": [
    "problem 7 - Reverse a given integer number."
   ]
  },
  {
   "cell_type": "code",
   "execution_count": 4,
   "id": "1f856708-5e99-4bc7-9ef4-2a0e9645418d",
   "metadata": {},
   "outputs": [
    {
     "data": {
      "text/plain": [
       "'24567'"
      ]
     },
     "execution_count": 4,
     "metadata": {},
     "output_type": "execute_result"
    }
   ],
   "source": [
    "str1 = \"76542\"\n",
    "str1[0:]\n",
    "str1[::-1]"
   ]
  },
  {
   "cell_type": "markdown",
   "id": "e197c03b-3ff8-4add-b181-e2399b070b21",
   "metadata": {},
   "source": [
    "Problem 8: Take a user input as integer N. Find out the sum from 1 to N.\n",
    "If any number if divisible by 5,\n",
    "then skip that number. And if the sum is greater than 300, \n",
    "don't need to calculate the sum further more. Print the final result.\n",
    "And don't use for loop to solve this problem."
   ]
  },
  {
   "cell_type": "code",
   "execution_count": 4,
   "id": "c677d017-a7c5-4b91-adf5-8473a9d41656",
   "metadata": {},
   "outputs": [
    {
     "name": "stdout",
     "output_type": "stream",
     "text": [
      "NO\n"
     ]
    }
   ],
   "source": [
    "def isDivisible(n):\n",
    "    temp=n\n",
    "    sum=0;\n",
    "    while(n):\n",
    "\n",
    "        k=n%10;\n",
    "        sum+=k;\n",
    "        n/=10;\n",
    "\n",
    "    if(temp%sum==0):\n",
    "       return \"YES\";\n",
    "\n",
    "    return \"NO\";\n",
    "n=123;\n",
    "print(isDivisible(n));"
   ]
  },
  {
   "cell_type": "markdown",
   "id": "af80f72b-a7d4-4977-b746-63291e022949",
   "metadata": {},
   "source": [
    "Problem 9: Write a program that keeps on accepting a number from the user until the user enters Zero.\n",
    "Display the sum and average of all the numbers."
   ]
  },
  {
   "cell_type": "code",
   "execution_count": null,
   "id": "e22abdb3-2748-4a7c-aa78-7d1f05332832",
   "metadata": {},
   "outputs": [
    {
     "name": "stdin",
     "output_type": "stream",
     "text": [
      "enter your number 4\n"
     ]
    },
    {
     "name": "stdout",
     "output_type": "stream",
     "text": [
      "addition 4\n",
      "average 4.0\n"
     ]
    },
    {
     "name": "stdin",
     "output_type": "stream",
     "text": [
      "enter your number 3\n"
     ]
    },
    {
     "name": "stdout",
     "output_type": "stream",
     "text": [
      "addition 7\n",
      "average 3.5\n"
     ]
    },
    {
     "name": "stdin",
     "output_type": "stream",
     "text": [
      "enter your number 5\n"
     ]
    },
    {
     "name": "stdout",
     "output_type": "stream",
     "text": [
      "addition 12\n",
      "average 4.0\n"
     ]
    },
    {
     "name": "stdin",
     "output_type": "stream",
     "text": [
      "enter your number 6\n"
     ]
    },
    {
     "name": "stdout",
     "output_type": "stream",
     "text": [
      "addition 18\n",
      "average 4.5\n"
     ]
    },
    {
     "name": "stdin",
     "output_type": "stream",
     "text": [
      "enter your number 2\n"
     ]
    },
    {
     "name": "stdout",
     "output_type": "stream",
     "text": [
      "addition 20\n",
      "average 4.0\n"
     ]
    },
    {
     "name": "stdin",
     "output_type": "stream",
     "text": [
      "enter your number 1\n"
     ]
    },
    {
     "name": "stdout",
     "output_type": "stream",
     "text": [
      "addition 21\n",
      "average 3.5\n"
     ]
    },
    {
     "name": "stdin",
     "output_type": "stream",
     "text": [
      "enter your number 3\n"
     ]
    },
    {
     "name": "stdout",
     "output_type": "stream",
     "text": [
      "addition 24\n",
      "average 3.4285714285714284\n"
     ]
    },
    {
     "name": "stdin",
     "output_type": "stream",
     "text": [
      "enter your number 6\n"
     ]
    },
    {
     "name": "stdout",
     "output_type": "stream",
     "text": [
      "addition 30\n",
      "average 3.75\n"
     ]
    },
    {
     "name": "stdin",
     "output_type": "stream",
     "text": [
      "enter your number 8\n"
     ]
    },
    {
     "name": "stdout",
     "output_type": "stream",
     "text": [
      "addition 38\n",
      "average 4.222222222222222\n"
     ]
    },
    {
     "name": "stdin",
     "output_type": "stream",
     "text": [
      "enter your number 3\n"
     ]
    },
    {
     "name": "stdout",
     "output_type": "stream",
     "text": [
      "addition 41\n",
      "average 4.1\n"
     ]
    }
   ],
   "source": [
    "sum = 0\n",
    "count = 0\n",
    "while True :\n",
    "    num = int(input(\"enter your number\"))\n",
    "    if num== 0 :\n",
    "        break\n",
    "    sum = sum + num\n",
    "    count = count + 1\n",
    "    print(\"addition\",sum)\n",
    "    print(\"average\",sum/count)"
   ]
  },
  {
   "cell_type": "markdown",
   "id": "6cddd819-ffc5-4dbc-ac33-fc7185bbfd70",
   "metadata": {},
   "source": [
    "Problem 9: Write a program which will find all such numbers which are divisible by 7 but are not a multiple of 5,\n",
    "between 2000 and 3200 (both included). \n",
    "The numbers obtained should be printed in a comma-separated sequence on a single line."
   ]
  },
  {
   "cell_type": "code",
   "execution_count": 5,
   "id": "2a54f323-9323-4c44-b912-1c78c5f58e20",
   "metadata": {},
   "outputs": [
    {
     "name": "stdout",
     "output_type": "stream",
     "text": [
      "1505,1540,1575,1610,1645,1680,1715,1750,1785,1820,1855,1890,1925,1960,1995,2030,2065,2100,2135,2170,2205,2240,2275,2310,2345,2380,2415,2450,2485,2520,2555,2590,2625,2660,2695\n"
     ]
    }
   ],
   "source": [
    "nl=[]\n",
    "\n",
    "for x in range(1500,2701):\n",
    "\n",
    "    if(x%7==0) and(x%5==0):\n",
    "\n",
    "        nl.append(str(x))\n",
    "\n",
    "print(','.join(nl))"
   ]
  },
  {
   "cell_type": "markdown",
   "id": "5867ca03-3a9e-4600-8376-886b74db3860",
   "metadata": {},
   "source": [
    "Problem 10: Write a program, which will find all such numbers between 1000 and 3000 (both included) \n",
    "such that each digit of the number is an even number.\n",
    " The numbers obtained should be printed in a space-separated sequence on a single line."
   ]
  },
  {
   "cell_type": "code",
   "execution_count": 19,
   "id": "04dd4ff9-3e14-4974-92ed-042573fd162c",
   "metadata": {},
   "outputs": [
    {
     "name": "stdout",
     "output_type": "stream",
     "text": [
      "200,202,204,206,208,220,222,224,226,228,240,242,244,246,248,260,262,264,266,268,280,282,284,286,288,400\n"
     ]
    }
   ],
   "source": [
    "# create an empty list named 'item'\n",
    "items=[]\n",
    "\n",
    "for i in range(100,401):\n",
    "    s=str(i)\n",
    "\n",
    "    if (int(s[0]) %2==0) and (int(s[1]) %2==0) and (int(s[2]) %2==0):\n",
    "\n",
    "        items.append(s)\n",
    "\n",
    "print(\",\".join(items))"
   ]
  },
  {
   "cell_type": "markdown",
   "id": "f44d4360-9f5a-4db0-9f88-328d16da51e2",
   "metadata": {},
   "source": [
    "Problem 11: A robot moves in a plane starting from the original point (0,0). The robot can move toward UP, DOWN, LEFT and RIGHT with a given steps.\n",
    "The trace of robot movement is shown as the following:\n",
    "\n",
    "UP 5\n",
    "DOWN 3\n",
    "LEFT 3\n",
    "RIGHT 2\n",
    "!\n",
    "The numbers after the direction are steps.\n",
    "! means robot stop there.\n",
    "Please write a program to compute the distance from current position after a sequence of movement and original point.\n",
    "If the distance is a float, then just print the nearest integer."
   ]
  },
  {
   "cell_type": "code",
   "execution_count": 15,
   "id": "487ccfd3-5ed5-4786-b348-f143e313e966",
   "metadata": {},
   "outputs": [
    {
     "name": "stdout",
     "output_type": "stream",
     "text": [
      "1\n"
     ]
    }
   ],
   "source": [
    "import math\n",
    "def calculate_distance_from_origin(commands):\n",
    "    # Starting point\n",
    "    x, y = 0, 0\n",
    "\n",
    "    for command in commands:\n",
    "        if command == \"!\":\n",
    "            break\n",
    "        direction, steps = command.split()\n",
    "        steps = int(steps)\n",
    "        \n",
    "        if direction == \"UP\":\n",
    "            y += steps\n",
    "        elif direction == \"DOWN\":\n",
    "            y -= steps\n",
    "        elif direction == \"LEFT\":\n",
    "            x -= steps\n",
    "        elif direction == \"RIGHT\":\n",
    "            x += steps\n",
    "\n",
    "    # Calculate the Euclidean distance from (0, 0) to (x, y)\n",
    "    distance = math.sqrt(x*2 + y*2)\n",
    "\n",
    "    # Return the nearest integer distance\n",
    "    return round(distance)\n",
    "\n",
    "# Example usage\n",
    "commands = [\n",
    "    \"UP 5\",\n",
    "    \"DOWN 3\",\n",
    "    \"LEFT 3\",\n",
    "    \"RIGHT 2\",\n",
    "    \"!\"\n",
    "]\n",
    "\n",
    "print(calculate_distance_from_origin(commands))"
   ]
  },
  {
   "cell_type": "markdown",
   "id": "648d5f87-e5ae-4229-878b-c7f51b1c8749",
   "metadata": {},
   "source": [
    "Problem 12:Write a program to print whether a given number is a prime number or not"
   ]
  },
  {
   "cell_type": "code",
   "execution_count": 1,
   "id": "0a75f017-5633-4422-8ca4-c5726adcf8f2",
   "metadata": {},
   "outputs": [
    {
     "name": "stdin",
     "output_type": "stream",
     "text": [
      "enter a number 2\n"
     ]
    },
    {
     "name": "stdout",
     "output_type": "stream",
     "text": [
      "the number you enterd is not a prime number\n"
     ]
    }
   ],
   "source": [
    "a=int(input(\"enter a number\"))\n",
    "if a%2:\n",
    "    print(\"the number you enterd is a prime number\" )\n",
    "else:\n",
    "    print(\"the number you enterd is not a prime number\")"
   ]
  },
  {
   "cell_type": "markdown",
   "id": "c28a1091-9828-423e-966d-1af2ad532873",
   "metadata": {},
   "source": [
    "problem 13:Print all the Armstrong numbers in a given range."
   ]
  },
  {
   "cell_type": "code",
   "execution_count": null,
   "id": "6e66966d-a5ce-4ec8-ae78-8552976fd496",
   "metadata": {},
   "outputs": [
    {
     "name": "stdin",
     "output_type": "stream",
     "text": [
      "enter lower range: 145\n",
      "enter upper range: 479\n"
     ]
    }
   ],
   "source": [
    "lower_range = int(input(\"enter lower range:\"))\n",
    "upper_range = int(input(\"enter upper range:\"))\n",
    "\n",
    "for n in range(lower_range,upper_range+1):\n",
    "    sum=0\n",
    "    temp=n\n",
    "    while temp > 0:\n",
    "        digit= temp % 10\n",
    "        sum=sum+digit**3\n",
    "if n == sum:\n",
    "    print(n)"
   ]
  },
  {
   "cell_type": "markdown",
   "id": "4a4e7cd6-9a0b-4813-b1cc-cf32d48f5354",
   "metadata": {},
   "source": [
    "Problem 14:Calculate the angle between the hour hand and minute hand.\n",
    "Note: There can be two angles between hands; we need to print a minimum of two. \n",
    "Also, we need to print the floor of the final result angle.\n",
    "For example, if the final angle is 10.61, we need to print 10."
   ]
  },
  {
   "cell_type": "code",
   "execution_count": null,
   "id": "8d4e4423-2ea3-4b71-a9f8-94dbbc7c8aec",
   "metadata": {},
   "outputs": [],
   "source": [
    "# python program to find angle\n",
    "# between hour and minute hand\n",
    "\n",
    "def calcAngle(h,m):\n",
    "    if (h < 0 or m < 0 or h > 12 or m > 60):\n",
    "        print('wrong input')\n",
    "\n",
    "    if (h == 12):\n",
    "        h = 0\n",
    "    if (m == 60):\n",
    "        m = 0\n",
    "        h += 1;\n",
    "        if(h>12):\n",
    "            h = h-12;\n",
    "\n",
    "     hour_angle = 0.5 + (h*60 + m)\n",
    "     minute_angle + 6 * m\n",
    "\n",
    "     angle = abs(hour_angle . minute_angle)\n",
    "\n",
    "     angle = min(360 . angle, angle)\n",
    "     return angle\n",
    "h = 9\n",
    "m = 0\n",
    "print('angle', calcAngle(h,m))"
   ]
  },
  {
   "cell_type": "markdown",
   "id": "a00629b3-2a5a-4fd7-8cc5-9faf002cb4ae",
   "metadata": {},
   "source": [
    "roblem 15:Given two rectangles, find if the given two rectangles overlap or not.\n",
    "A rectangle is denoted by providing the x and y coordinates of two points: the left \n",
    "top corner and the right bottom corner of the rectangle. Two rectangles sharing a side are considered overlapping.\n",
    "(L1 and R1 are the extreme points of the first rectangle and L2 and R2 are the extreme points of the second rectangle).\n",
    "Note: It may be assumed that the rectangles are parallel to the coordinate axis.\n",
    "\n"
   ]
  },
  {
   "cell_type": "code",
   "execution_count": 16,
   "id": "b9ca7965-5909-47b0-8c43-a7dd84634660",
   "metadata": {},
   "outputs": [
    {
     "name": "stdout",
     "output_type": "stream",
     "text": [
      "The rectangles overlap.\n"
     ]
    }
   ],
   "source": [
    "def do_rectangles_overlap(L1, R1, L2, R2):\n",
    "    \"\"\"\n",
    "    Check if two rectangles overlap.\n",
    "\n",
    "    :param L1: Tuple[int, int] - Top-left corner of the first rectangle (x1, y1)\n",
    "    :param R1: Tuple[int, int] - Bottom-right corner of the first rectangle (x2, y2)\n",
    "    :param L2: Tuple[int, int] - Top-left corner of the second rectangle (x3, y3)\n",
    "    :param R2: Tuple[int, int] - Bottom-right corner of the second rectangle (x4, y4)\n",
    "    :return: bool - True if rectangles overlap, False otherwise\n",
    "    \"\"\"\n",
    "\n",
    "    # If one rectangle is to the left of the other\n",
    "    if L1[0] > R2[0] or L2[0] > R1[0]:\n",
    "        return False\n",
    "    \n",
    "    # If one rectangle is above the other\n",
    "    if L1[1] < R2[1] or L2[1] < R1[1]:\n",
    "        return False\n",
    "    \n",
    "    return True\n",
    "\n",
    "# Example usage\n",
    "L1 = (0, 10)\n",
    "R1 = (10, 0)\n",
    "L2 = (5, 5)\n",
    "R2 = (15, 0)\n",
    "\n",
    "if do_rectangles_overlap(L1, R1, L2, R2):\n",
    "    print(\"The rectangles overlap.\")\n",
    "else:\n",
    "    print(\"The rectangles do not overlap.\")"
   ]
  },
  {
   "cell_type": "code",
   "execution_count": null,
   "id": "5563d49d-5668-4102-9ab9-d45253777503",
   "metadata": {},
   "outputs": [],
   "source": []
  }
 ],
 "metadata": {
  "kernelspec": {
   "display_name": "Python 3 (ipykernel)",
   "language": "python",
   "name": "python3"
  },
  "language_info": {
   "codemirror_mode": {
    "name": "ipython",
    "version": 3
   },
   "file_extension": ".py",
   "mimetype": "text/x-python",
   "name": "python",
   "nbconvert_exporter": "python",
   "pygments_lexer": "ipython3",
   "version": "3.11.7"
  }
 },
 "nbformat": 4,
 "nbformat_minor": 5
}
