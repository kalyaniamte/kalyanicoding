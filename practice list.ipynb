{
 "cells": [
  {
   "cell_type": "markdown",
   "id": "c24ac689-73ef-4199-81c9-1c85eac57e89",
   "metadata": {},
   "source": [
    "Q1. # create 2 lists from a given list where\n",
    "   # 1st list will contain all the odd number from the original list and \n",
    "   # 2nd one will contain all the even number"
   ]
  },
  {
   "cell_type": "code",
   "execution_count": 2,
   "id": "d6c651b6-1923-486a-9d33-86c413fbf499",
   "metadata": {},
   "outputs": [
    {
     "name": "stdout",
     "output_type": "stream",
     "text": [
      "Original list: [1, 2, 3, 4, 5, 6]\n",
      "List of odd numbers: [1, 3, 5]\n",
      "List of even numbers: [2, 4, 6]\n"
     ]
    }
   ],
   "source": [
    "L = [1, 2, 3, 4, 5, 6]\n",
    "\n",
    "# Initialize empty lists to store odd and even numbers\n",
    "odd_numbers = []\n",
    "even_numbers = []\n",
    "\n",
    "# Iterate through the elements of the original list\n",
    "for num in L:\n",
    "    if num % 2 == 0:  # Check if the number is even\n",
    "        even_numbers.append(num)\n",
    "    else:\n",
    "        odd_numbers.append(num)\n",
    "\n",
    "print(\"Original list:\", L)\n",
    "print(\"List of odd numbers:\",odd_numbers)\n",
    "print(\"List of even numbers:\",even_numbers)"
   ]
  },
  {
   "cell_type": "markdown",
   "id": "cd49e235-077c-4fbf-9063-28a5fa50568c",
   "metadata": {},
   "source": [
    "Q2. # how to take list as input from user"
   ]
  },
  {
   "cell_type": "code",
   "execution_count": 6,
   "id": "cd2aeb5b-ab47-4234-bcc4-d426748706bd",
   "metadata": {},
   "outputs": [
    {
     "name": "stdin",
     "output_type": "stream",
     "text": [
      " 1,2,3,4,5\n"
     ]
    },
    {
     "name": "stdout",
     "output_type": "stream",
     "text": [
      "['1', '2', '3', '4', '5']\n"
     ]
    }
   ],
   "source": [
    "x=input().split(',')\n",
    "print(x)"
   ]
  },
  {
   "cell_type": "markdown",
   "id": "f4d65691-facc-4dc0-8f5a-a4a05405eeff",
   "metadata": {},
   "source": [
    "Q3. # Write a program to merge 2 list without using the + operator"
   ]
  },
  {
   "cell_type": "code",
   "execution_count": 7,
   "id": "3f2871ef-a283-454c-9ac6-234654453a10",
   "metadata": {},
   "outputs": [
    {
     "name": "stdout",
     "output_type": "stream",
     "text": [
      "[1, 2, 3, 4, 5, 6, 7, 8]\n"
     ]
    }
   ],
   "source": [
    "l1=[1,2,3,4]\n",
    "l2=[5,6,7,8]\n",
    "l1.extend(l2)\n",
    "print(l1)"
   ]
  },
  {
   "cell_type": "markdown",
   "id": "439be150-b38d-494a-b556-0b7c65d5b95e",
   "metadata": {},
   "source": [
    "Q4. # write a program to replace an item with a different item if found in the list"
   ]
  },
  {
   "cell_type": "code",
   "execution_count": 16,
   "id": "3feb331d-f658-4364-ba01-aa5bcf359ef5",
   "metadata": {},
   "outputs": [
    {
     "name": "stdout",
     "output_type": "stream",
     "text": [
      "Original list: [1, 2, 300, 4, 5, 300]\n",
      "Modified list: [1, 2, 300, 4, 5, 300]\n"
     ]
    }
   ],
   "source": [
    "def replace_item(li, old_item, new_item):\n",
    "    for i in range(len(li)):\n",
    "        if li[i] == old_item:\n",
    "            li[i] = new_item\n",
    "    return li\n",
    "\n",
    "# Example usage:\n",
    "original_list = [1, 2, 3, 4, 5, 3]\n",
    "old_value = 3\n",
    "new_value = 300\n",
    "\n",
    "# Call the function to replace items in the list\n",
    "modified_list = replace_item(original_list, old_value, new_value)\n",
    "\n",
    "# Print the original and modified lists\n",
    "print(\"Original list:\", original_list)\n",
    "print(\"Modified list:\",modified_list)"
   ]
  },
  {
   "cell_type": "markdown",
   "id": "bb7448fa-78a2-49ef-a15b-5f27a6637d39",
   "metadata": {},
   "source": [
    "Q5. # write a program that can convert a 2d list to 1d list"
   ]
  },
  {
   "cell_type": "code",
   "execution_count": 8,
   "id": "2623253d-1bf1-4252-9d81-bcc704993e8d",
   "metadata": {},
   "outputs": [
    {
     "name": "stdout",
     "output_type": "stream",
     "text": [
      "Original 2D list: [[1, 2, 3], [4, 5], [6, 7, 8]]\n",
      "Flattened 1D list: [1, 2, 3, 4, 5, 6, 7, 8]\n"
     ]
    }
   ],
   "source": [
    "def flatten_2d_list(two_d_list):\n",
    "    # Initialize an empty list to store the flattened result\n",
    "    one_d_list = []\n",
    "\n",
    "    # Iterate over each sublist in the 2D list\n",
    "    for sublist in two_d_list:\n",
    "        # Extend the one_d_list with the elements of the current sublist\n",
    "        one_d_list.extend(sublist)\n",
    "\n",
    "    return one_d_list\n",
    "\n",
    "# Example 2D list\n",
    "two_d_list = [[1, 2, 3], [4, 5], [6, 7, 8]]\n",
    "\n",
    "# Convert the 2D list to a 1D list\n",
    "one_d_list = flatten_2d_list(two_d_list)\n",
    "\n",
    "# Print the result\n",
    "print(\"Original 2D list:\",two_d_list)\n",
    "print(\"Flattened 1D list:\",one_d_list)"
   ]
  },
  {
   "cell_type": "markdown",
   "id": "264ece15-92a0-4dfc-856a-986689f24c2e",
   "metadata": {},
   "source": [
    "Q6. # write a program to remove duplicate items from a list"
   ]
  },
  {
   "cell_type": "code",
   "execution_count": 10,
   "id": "0cd21a3c-3ab4-4234-9c9f-866b08923dfb",
   "metadata": {},
   "outputs": [
    {
     "name": "stdout",
     "output_type": "stream",
     "text": [
      "Original list: [1, 2, 1, 2, 3, 4, 5, 3, 4]\n",
      "List after removing duplicates: [1, 2, 3, 4, 5]\n"
     ]
    }
   ],
   "source": [
    "L = [1, 2, 1, 2, 3, 4, 5, 3, 4]\n",
    "\n",
    "# Convert the list to a set to remove duplicates, then convert it back to a list\n",
    "unique_list = list(set(L))\n",
    "\n",
    "print(\"Original list:\", L)\n",
    "print(\"List after removing duplicates:\",unique_list)"
   ]
  },
  {
   "cell_type": "markdown",
   "id": "8dc6e714-abc4-4217-8b87-828a76acbb1b",
   "metadata": {},
   "source": [
    "Q7. # write a program to check if a list is in ascending order or not"
   ]
  },
  {
   "cell_type": "code",
   "execution_count": 11,
   "id": "f7fa462e-1d7f-4495-b62b-729e5a211bde",
   "metadata": {},
   "outputs": [
    {
     "name": "stdout",
     "output_type": "stream",
     "text": [
      "Is list1 in ascending order? True\n",
      "Is list2 in ascending order? False\n"
     ]
    }
   ],
   "source": [
    "def is_ascending(lst):\n",
    "    # Iterate through the list from the first element to the second last element\n",
    "    for i in range(len(lst) - 1):\n",
    "        # If any element is greater than the next one, return False\n",
    "        if lst[i] > lst[i + 1]:\n",
    "            return False\n",
    "    # If no element violates the ascending order condition, return True\n",
    "    return True\n",
    "\n",
    "# Test the function\n",
    "list1 = [1, 2, 3, 4, 5]\n",
    "list2 = [1, 3, 2, 4, 5]\n",
    "\n",
    "print(\"Is list1 in ascending order?\", is_ascending(list1))\n",
    "print(\"Is list2 in ascending order?\", is_ascending(list2))"
   ]
  },
  {
   "cell_type": "code",
   "execution_count": null,
   "id": "7ed20456-16dc-4de4-960e-d60f609227f3",
   "metadata": {},
   "outputs": [],
   "source": []
  }
 ],
 "metadata": {
  "kernelspec": {
   "display_name": "Python 3 (ipykernel)",
   "language": "python",
   "name": "python3"
  },
  "language_info": {
   "codemirror_mode": {
    "name": "ipython",
    "version": 3
   },
   "file_extension": ".py",
   "mimetype": "text/x-python",
   "name": "python",
   "nbconvert_exporter": "python",
   "pygments_lexer": "ipython3",
   "version": "3.11.7"
  }
 },
 "nbformat": 4,
 "nbformat_minor": 5
}
