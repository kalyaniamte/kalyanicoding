{
 "cells": [
  {
   "cell_type": "code",
   "execution_count": null,
   "id": "8749126a-4d6f-4f48-8cac-ee5f56c2a165",
   "metadata": {},
   "outputs": [],
   "source": [
    "Problem 1 - Print the following pattern. Write a program to use for loop to print the following reverse number pattern.\n",
    "5 4 3 2 1 \n",
    "4 3 2 1 \n",
    "3 2 1 \n",
    "2 1 \n",
    "1"
   ]
  },
  {
   "cell_type": "code",
   "execution_count": 1,
   "id": "b2dd9c16-8c74-4d94-8a17-8fc7d292addd",
   "metadata": {},
   "outputs": [
    {
     "name": "stdout",
     "output_type": "stream",
     "text": [
      "5 4 3 2 1 \n",
      "4 3 2 1 \n",
      "3 2 1 \n",
      "2 1 \n",
      "1 \n"
     ]
    }
   ],
   "source": [
    "def print_reverse_number_pattern(n):\n",
    "    \"\"\"\n",
    "    Print the reverse number pattern as described.\n",
    "    \n",
    "    Parameters:\n",
    "    n (int): The number of rows in the pattern.\n",
    "    \"\"\"\n",
    "    for i in range(n, 0, -1):  # Loop for rows from n to 1 in reverse order\n",
    "        for j in range(i, 0, -1):  # Loop for numbers in each row in reverse order\n",
    "            print(j, end=\" \")\n",
    "        print()  # Move to the next line after printing each row\n",
    "\n",
    "# Example usage:\n",
    "rows = 5\n",
    "print_reverse_number_pattern(rows)"
   ]
  },
  {
   "cell_type": "code",
   "execution_count": null,
   "id": "537f42b6-71a0-4922-be6a-48958a46302e",
   "metadata": {},
   "outputs": [],
   "source": [
    "Problem 2: Print the following pattern.\n",
    "* \n",
    "* * \n",
    "* * * \n",
    "* * * * \n",
    "* * * * * \n",
    "* * * * \n",
    "* * * \n",
    "* * \n",
    "*"
   ]
  },
  {
   "cell_type": "code",
   "execution_count": 2,
   "id": "562817b1-655b-4e32-9fd8-04be8a39c21f",
   "metadata": {},
   "outputs": [
    {
     "name": "stdout",
     "output_type": "stream",
     "text": [
      "* \n",
      "* * \n",
      "* * * \n",
      "* * * * \n",
      "* * * * * \n",
      "* * * * \n",
      "* * * \n",
      "* * \n",
      "* \n"
     ]
    }
   ],
   "source": [
    "def print_pattern(rows):\n",
    "    # First half of the pattern\n",
    "    for i in range(1, rows + 1):\n",
    "        for j in range(1, i + 1):\n",
    "            print(\"*\", end=\" \")\n",
    "        print()\n",
    "    \n",
    "    # Second half of the pattern\n",
    "    for i in range(rows - 1, 0, -1):\n",
    "        for j in range(1, i + 1):\n",
    "            print(\"*\", end=\" \")\n",
    "        print()\n",
    "\n",
    "# Number of rows in the pattern (adjust this value to change the size of the pattern)\n",
    "rows = 5\n",
    "print_pattern(rows)"
   ]
  },
  {
   "cell_type": "code",
   "execution_count": null,
   "id": "933a6da0-33ab-4977-a00c-fffec40464cb",
   "metadata": {},
   "outputs": [],
   "source": [
    "Problem 3:Write a program to pring the following pattern\n",
    "    *\n",
    "  * * *\n",
    "* * * * *"
   ]
  },
  {
   "cell_type": "code",
   "execution_count": 12,
   "id": "3df0e819-660c-48df-926c-5dbfd48c3b4f",
   "metadata": {},
   "outputs": [
    {
     "name": "stdout",
     "output_type": "stream",
     "text": [
      "    * \n",
      "  * * * \n",
      "* * * * * \n"
     ]
    }
   ],
   "source": [
    "def print_pattern():\n",
    "    rows = 3  # Number of rows in the pattern\n",
    "    \n",
    "    # Iterate through each row\n",
    "    for i in range(rows):\n",
    "        # Print spaces before the stars\n",
    "        for j in range(rows - i - 1):\n",
    "            print(\" \", end=\" \")\n",
    "        \n",
    "        # Print stars\n",
    "        for k in range(2*i + 1):\n",
    "            print(\"*\", end=\" \")\n",
    "        \n",
    "        # Move to the next line after each row is printed\n",
    "        print()\n",
    "  # call the function to print the pattern \n",
    "print_pattern()\n"
   ]
  },
  {
   "cell_type": "markdown",
   "id": "e0c43e13-7793-4a33-9e89-5a6e75a005d7",
   "metadata": {},
   "source": [
    "Problem 4:Write a program to print the following pattern\n",
    "1\n",
    "\n",
    "2 1\n",
    "\n",
    "3 2 1\n",
    "\n",
    "4 3 2 1\n",
    "\n",
    "5 4 3 2 1"
   ]
  },
  {
   "cell_type": "code",
   "execution_count": 13,
   "id": "182c3b16-b64f-4298-96bc-43fd4743a9cf",
   "metadata": {},
   "outputs": [
    {
     "name": "stdout",
     "output_type": "stream",
     "text": [
      "Pattern:\n",
      "2 1 \n",
      "3 2 1 \n",
      "4 3 2 1 \n",
      "5 4 3 2 1 \n"
     ]
    }
   ],
   "source": [
    "def print_pattern(rows):\n",
    "    for i in range(2, rows + 2):\n",
    "        # Print numbers in descending order from i to 1\n",
    "        for j in range(i, 0, -1):\n",
    "            print(j, end=' ')\n",
    "        print()  # Move to the next line after each row\n",
    "\n",
    "# Number of rows in the pattern\n",
    "rows = 4\n",
    "\n",
    "print(\"Pattern:\")\n",
    "print_pattern(rows)"
   ]
  },
  {
   "cell_type": "markdown",
   "id": "e886602d-021a-4dcf-95f7-d1dbdb61a120",
   "metadata": {},
   "source": [
    "Problem 5: Write a Python Program to Find the Sum of the Series till the nth term:\n",
    "1 + x^2/2 + x^3/3 + … x^n/n\n",
    "n will be provided by the user"
   ]
  },
  {
   "cell_type": "code",
   "execution_count": 9,
   "id": "2c370d6c-01de-42a8-9514-3ff72d147b61",
   "metadata": {},
   "outputs": [
    {
     "name": "stdin",
     "output_type": "stream",
     "text": [
      "Enter the value of x:  3\n",
      "Enter the value of n:  6\n"
     ]
    },
    {
     "name": "stdout",
     "output_type": "stream",
     "text": [
      "The sum of the series up to 6 terms is: 204.85\n"
     ]
    }
   ],
   "source": [
    "def calculate_series_sum(x, n):\n",
    "    series_sum = 1  # Initialize sum with the first term of the series\n",
    "    \n",
    "    # Calculate each subsequent term and add to the sum\n",
    "    for i in range(2, n+1):\n",
    "        term = (x ** i) / i\n",
    "        series_sum += term\n",
    "    \n",
    "    return series_sum\n",
    "\n",
    "# Input from user\n",
    "x = float(input(\"Enter the value of x: \"))\n",
    "n = int(input(\"Enter the value of n: \"))\n",
    "\n",
    "# Calculate and print the sum of the series\n",
    "result = calculate_series_sum(x, n)\n",
    "print(f\"The sum of the series up to {n} terms is: {result}\")"
   ]
  },
  {
   "cell_type": "markdown",
   "id": "4ae8ae8e-db1a-452e-ae0b-cffd702b1104",
   "metadata": {},
   "source": [
    "Problem 6: The natural logarithm can be approximated by the following series.\n",
    "temp.jpg\n",
    "\n",
    "\n",
    "\n",
    "If x is input through the keyboard, write a program to calculate the sum of the first seven terms of this series."
   ]
  },
  {
   "cell_type": "code",
   "execution_count": 1,
   "id": "9afa74f3-5e5f-4ec7-97eb-14c77f5af1a3",
   "metadata": {},
   "outputs": [
    {
     "name": "stdin",
     "output_type": "stream",
     "text": [
      "Enter the value of x:  5\n"
     ]
    },
    {
     "name": "stdout",
     "output_type": "stream",
     "text": [
      "The sum of the first seven terms of the series is: 1.3311488000000002\n"
     ]
    }
   ],
   "source": [
    "def calculate_ln_approx(x):\n",
    "    # Calculate the initial term (x - 1) / x\n",
    "    term = (x - 1) / x\n",
    "    series_sum = term\n",
    "    \n",
    "    # Calculate and add the next six terms\n",
    "    for n in range(2, 8):\n",
    "        term = (0.5 * (term * (x - 1) / x))\n",
    "        series_sum += term\n",
    "        \n",
    "    return series_sum\n",
    "\n",
    "# Input the value of x from the keyboard\n",
    "x = float(input(\"Enter the value of x: \"))\n",
    "\n",
    "# Calculate the sum of the first seven terms of the series\n",
    "ln_approx = calculate_ln_approx(x)\n",
    "\n",
    "# Print the result\n",
    "print(f\"The sum of the first seven terms of the series is: {ln_approx}\")"
   ]
  },
  {
   "cell_type": "markdown",
   "id": "91ef762b-eba9-4860-89b9-80ad5b3ccc5c",
   "metadata": {},
   "source": [
    "Problem 7 - Find the sum of the series upto n terms.\n",
    "Write a program to calculate the sum of series up to n term. For example, if n =5 the series will become \n",
    "2 + 22 + 222 + 2222 + 22222 = 24690.\n",
    "Take the user input and then calculate. And the output style should match which is given in the example."
   ]
  },
  {
   "cell_type": "code",
   "execution_count": 2,
   "id": "0414d44b-3afd-44d7-99cf-1beb450cd926",
   "metadata": {},
   "outputs": [
    {
     "name": "stdin",
     "output_type": "stream",
     "text": [
      "Enter the number of terms:  8\n"
     ]
    },
    {
     "name": "stdout",
     "output_type": "stream",
     "text": [
      "2+22+222+2222+22222+222222+2222222+22222222\n",
      "Sum of above series is: 24691356\n"
     ]
    }
   ],
   "source": [
    "def calculate_series_sum(n):\n",
    "    terms = []\n",
    "    current_term = 0\n",
    "    \n",
    "    for i in range(1, n + 1):\n",
    "        current_term = current_term * 10 + 2\n",
    "        terms.append(current_term)\n",
    "    8\n",
    "    \n",
    "    series_sum = sum(terms)\n",
    "    \n",
    "    return terms, series_sum\n",
    "\n",
    "# Input the value of n from the keyboard\n",
    "n = int(input(\"Enter the number of terms: \"))\n",
    "\n",
    "# Calculate the series and its sum\n",
    "terms, series_sum = calculate_series_sum(n)\n",
    "\n",
    "# Print the terms in the specified format\n",
    "print('+'.join(map(str, terms)))\n",
    "print(f\"Sum of above series is: {series_sum}\")"
   ]
  },
  {
   "cell_type": "markdown",
   "id": "f0b4e030-7749-4e8d-a81d-d4c103c927f7",
   "metadata": {},
   "source": [
    "Problem 8: Write a program to print all the unique combinations of 1,2,3 and 4\n",
    "Output:\n",
    "\n",
    "1 2 3 4\n",
    "1 2 4 3\n",
    "1 3 2 4\n",
    "1 3 4 2\n",
    "1 4 2 3\n",
    "1 4 3 2\n",
    "2 1 3 4\n",
    "2 1 4 3\n",
    "2 3 1 4\n",
    "2 3 4 1\n",
    "2 4 1 3\n",
    ".\n",
    ".\n",
    "and so on"
   ]
  },
  {
   "cell_type": "code",
   "execution_count": 18,
   "id": "2f8592db-e780-46a3-bde5-0be4b290a3c4",
   "metadata": {},
   "outputs": [
    {
     "name": "stdout",
     "output_type": "stream",
     "text": [
      "1 2 3 4\n",
      "1 2 4 3\n",
      "1 3 2 4\n",
      "1 3 4 2\n",
      "1 4 2 3\n",
      "1 4 3 2\n",
      "2 1 3 4\n",
      "2 1 4 3\n",
      "2 3 1 4\n",
      "2 3 4 1\n",
      "2 4 1 3\n",
      "2 4 3 1\n",
      "3 1 2 4\n",
      "3 1 4 2\n",
      "3 2 1 4\n",
      "3 2 4 1\n",
      "3 4 1 2\n",
      "3 4 2 1\n",
      "4 1 2 3\n",
      "4 1 3 2\n",
      "4 2 1 3\n",
      "4 2 3 1\n",
      "4 3 1 2\n",
      "4 3 2 1\n"
     ]
    }
   ],
   "source": [
    "from itertools import permutations\n",
    "\n",
    "# Define the list of numbers\n",
    "numbers = [1, 2, 3, 4]\n",
    "\n",
    "# Generate all unique permutations of the list\n",
    "all_permutations = permutations(numbers)\n",
    "\n",
    "# Print each permutation\n",
    "for perm in all_permutations:\n",
    "    print(' '.join(map(str,perm)))"
   ]
  },
  {
   "cell_type": "markdown",
   "id": "35cf8727-ce4c-4a93-a5ad-511262875e09",
   "metadata": {},
   "source": [
    "Problem 9: Write a program that will take a decimal number as input and prints out the binary equivalent of the number"
   ]
  },
  {
   "cell_type": "code",
   "execution_count": 16,
   "id": "9e36377a-48ae-482d-bbb6-f6f7c5df14e2",
   "metadata": {},
   "outputs": [
    {
     "name": "stdin",
     "output_type": "stream",
     "text": [
      "Enter a decimal number:  45\n"
     ]
    },
    {
     "name": "stdout",
     "output_type": "stream",
     "text": [
      "The binary equivalent of 45 is: 101101\n"
     ]
    }
   ],
   "source": [
    "def decimal_to_binary(n):\n",
    "    if n == 0:\n",
    "        return \"0\"\n",
    "    binary_num = \"\"\n",
    "    while n > 0:\n",
    "        binary_num = str(n % 2) + binary_num\n",
    "        n = n // 2\n",
    "    return binary_num\n",
    "\n",
    "# Input the decimal number from the keyboard\n",
    "decimal_number = int(input(\"Enter a decimal number: \"))\n",
    "\n",
    "# Convert to binary and print the result\n",
    "binary_equivalent = decimal_to_binary(decimal_number)\n",
    "print(f\"The binary equivalent of {decimal_number} is: {binary_equivalent}\")"
   ]
  },
  {
   "cell_type": "markdown",
   "id": "1f6cc7b6-abc8-4f0f-849f-8599421d303f",
   "metadata": {},
   "source": [
    "Problem 10: Write a program that will take 2 numbers as input and prints the LCM and HCF of those 2 numbers"
   ]
  },
  {
   "cell_type": "code",
   "execution_count": 15,
   "id": "6780751f-e297-4f5a-a0d8-264d0b0ea1d0",
   "metadata": {},
   "outputs": [
    {
     "name": "stdin",
     "output_type": "stream",
     "text": [
      "Enter the first number:  5\n",
      "Enter the second number:  7\n"
     ]
    },
    {
     "name": "stdout",
     "output_type": "stream",
     "text": [
      "The HCF (GCD) of 5 and 7 is: 1\n",
      "The LCM of 5 and 7 is: 35\n"
     ]
    }
   ],
   "source": [
    "import math\n",
    "\n",
    "def calculate_hcf(x, y):\n",
    "    return math.gcd(x, y)\n",
    "\n",
    "def calculate_lcm(x, y):\n",
    "    return abs(x * y) // calculate_hcf(x, y)\n",
    "\n",
    "# Input two numbers from the keyboard\n",
    "num1 = int(input(\"Enter the first number: \"))\n",
    "num2 = int(input(\"Enter the second number: \"))\n",
    "\n",
    "# Calculate HCF (GCD) and LCM\n",
    "hcf = calculate_hcf(num1, num2)\n",
    "lcm = calculate_lcm(num1, num2)\n",
    "\n",
    "# Print the results\n",
    "print(f\"The HCF (GCD) of {num1} and {num2} is: {hcf}\")\n",
    "print(f\"The LCM of {num1} and {num2} is: {lcm}\")"
   ]
  },
  {
   "cell_type": "markdown",
   "id": "9ab63b15-33bf-40ae-a653-740b614c5192",
   "metadata": {},
   "source": [
    "Problem 11: Create Short Form from initial character\n",
    "Given a string create short form ofthe string from Initial character. Short form should be capitalised.\n",
    "\n",
    "Example:\n",
    "\n",
    "Input:\n",
    "\n",
    "Data science mentorship program\n",
    "Output:\n",
    "\n",
    "DSMP"
   ]
  },
  {
   "cell_type": "code",
   "execution_count": 14,
   "id": "9af7eb73-4ebc-4c7b-98db-c27d4e2da456",
   "metadata": {},
   "outputs": [
    {
     "name": "stdin",
     "output_type": "stream",
     "text": [
      "Enter the phrase:  hi hi hello how are you I am fine have a nice day\n"
     ]
    },
    {
     "name": "stdout",
     "output_type": "stream",
     "text": [
      "The short form of the input is: HHHHAYIAFHAND\n"
     ]
    }
   ],
   "source": [
    "def create_short_form(phrase):\n",
    "    # Split the phrase into words\n",
    "    words = phrase.split()\n",
    "    \n",
    "    # Extract the first character of each word and capitalize it\n",
    "    short_form = ''.join(word[0].upper() for word in words)\n",
    "    \n",
    "    return short_form\n",
    "\n",
    "# Input the phrase from the keyboard\n",
    "input_phrase = input(\"Enter the phrase: \")\n",
    "\n",
    "# Create the short form\n",
    "short_form = create_short_form(input_phrase)\n",
    "\n",
    "# Print the result\n",
    "print(f\"The short form of the input is: {short_form}\")"
   ]
  },
  {
   "cell_type": "markdown",
   "id": "4e5b5ae9-5319-424f-a278-f61e06909c46",
   "metadata": {},
   "source": [
    "Problem 12: Append second string in the middle of first string\n",
    "Input:\n",
    "\n",
    "campusx\n",
    "data\n",
    "Output:\n",
    "\n",
    "camdatapusx"
   ]
  },
  {
   "cell_type": "code",
   "execution_count": 13,
   "id": "c845bf59-87b6-406f-8e51-12de34146201",
   "metadata": {},
   "outputs": [
    {
     "name": "stdin",
     "output_type": "stream",
     "text": [
      "Enter the first string:  hi hello\n",
      "Enter the second string:  how are you \n"
     ]
    },
    {
     "name": "stdout",
     "output_type": "stream",
     "text": [
      "The result of appending the second string in the middle of the first string is: hi hhow are you ello\n"
     ]
    }
   ],
   "source": [
    "def append_in_middle(first, second):\n",
    "    middle_index = len(first) // 2\n",
    "    result = first[:middle_index] + second + first[middle_index:]\n",
    "    return result\n",
    "\n",
    "# Input the two strings from the keyboard\n",
    "first_string = input(\"Enter the first string: \")\n",
    "second_string = input(\"Enter the second string: \")\n",
    "\n",
    "# Append the second string in the middle of the first string\n",
    "result_string = append_in_middle(first_string, second_string)\n",
    "\n",
    "# Print the result\n",
    "print(f\"The result of appending the second string in the middle of the first string is: {result_string}\")"
   ]
  },
  {
   "cell_type": "markdown",
   "id": "cca13e21-08d3-4313-af72-9ddae1ed102c",
   "metadata": {},
   "source": [
    "Problem 13:Given string contains a combination of the lower and upper case letters. Write a program to arrange the characters of a string so that all lowercase letters should come first.\n",
    "Given:\n",
    "\n",
    "str1 = PyNaTive\n",
    "\n",
    "Expected Output:\n",
    "\n",
    "yaivePNT"
   ]
  },
  {
   "cell_type": "code",
   "execution_count": 12,
   "id": "ef885431-9a88-4a8f-a7ff-03b881f0de9d",
   "metadata": {},
   "outputs": [
    {
     "name": "stdout",
     "output_type": "stream",
     "text": [
      "Arranged string: yaivePNT\n"
     ]
    }
   ],
   "source": [
    "def arrange_string(input_str):\n",
    "    lower_case = ''.join([char for char in input_str if char.islower()])\n",
    "    upper_case = ''.join([char for char in input_str if char.isupper()])\n",
    "    return lower_case + upper_case\n",
    "\n",
    "# Given string\n",
    "str1 = \"PyNaTive\"\n",
    "\n",
    "# Arrange the string\n",
    "result = arrange_string(str1)\n",
    "\n",
    "# Print the result\n",
    "print(f\"Arranged string: {result}\")"
   ]
  },
  {
   "cell_type": "markdown",
   "id": "a380ad9b-e86f-486d-8298-5d7dc9e74ffe",
   "metadata": {},
   "source": [
    "Problem 14:Take a alphanumeric string input and print the sum and average of the digits that appear in the string, ignoring all other characters.\n",
    "Input:\n",
    "\n",
    "hel123O4every093\n",
    "\n",
    "Output:\n",
    "\n",
    "Sum: 22\n",
    "Avg: 2.75"
   ]
  },
  {
   "cell_type": "code",
   "execution_count": 11,
   "id": "acb72c8f-7f0e-4ac1-9f0e-502a503dd994",
   "metadata": {},
   "outputs": [
    {
     "name": "stdin",
     "output_type": "stream",
     "text": [
      "Enter the alphanumeric string:  hi hello how are you\n"
     ]
    },
    {
     "name": "stdout",
     "output_type": "stream",
     "text": [
      "Sum: 0\n",
      "Avg: 0.00\n"
     ]
    }
   ],
   "source": [
    "def calculate_sum_and_average(input_str):\n",
    "    digits = [int(char) for char in input_str if char.isdigit()]\n",
    "    if not digits:\n",
    "        return 0, 0.0\n",
    "    \n",
    "    total_sum = sum(digits)\n",
    "    average = total_sum / len(digits)\n",
    "    return total_sum, average\n",
    "\n",
    "# Input the alphanumeric string from the keyboard\n",
    "input_string = input(\"Enter the alphanumeric string: \")\n",
    "\n",
    "# Calculate sum and average of digits\n",
    "total_sum, average = calculate_sum_and_average(input_string)\n",
    "\n",
    "# Print the results\n",
    "print(f\"Sum: {total_sum}\")\n",
    "print(f\"Avg: {average:.2f}\")"
   ]
  },
  {
   "cell_type": "markdown",
   "id": "8c5640ee-4801-466a-991e-f2170aa3177e",
   "metadata": {},
   "source": [
    "Problem 15: Removal of all characters from a string except integers\n",
    "Given:\n",
    "\n",
    "str1 = 'I am 25 years and 10 months old'\n",
    "Expected Output:\n",
    "\n",
    "2510"
   ]
  },
  {
   "cell_type": "code",
   "execution_count": 10,
   "id": "2e573e11-d841-4596-b6a1-6fa71c05779f",
   "metadata": {},
   "outputs": [
    {
     "name": "stdout",
     "output_type": "stream",
     "text": [
      "Expected Output: 2510\n"
     ]
    }
   ],
   "source": [
    "import re\n",
    "\n",
    "def extract_digits(input_str):\n",
    "    digits = re.findall(r'\\d+', input_str)\n",
    "    return ''.join(digits)\n",
    "\n",
    "# Given string\n",
    "str1 = 'I am 25 years and 10 months old'\n",
    "\n",
    "# Extract digits\n",
    "result = extract_digits(str1)\n",
    "\n",
    "# Print the result\n",
    "print(\"Expected Output:\",result)"
   ]
  },
  {
   "cell_type": "markdown",
   "id": "5ecc275d-a876-4270-8556-ac38770ebed7",
   "metadata": {},
   "source": [
    "Problem 16: Check whether the string is Symmetrical.\n",
    "Statement: Given a string. the task is to check if the string is symmetrical or not. A string is said to be symmetrical if both the halves of the string are the same.\n",
    "\n",
    "Example 1:\n",
    "\n",
    "Input\n",
    "\n",
    "khokho\n",
    "Output\n",
    "\n",
    "The entered string is symmetrical"
   ]
  },
  {
   "cell_type": "code",
   "execution_count": 8,
   "id": "2255fffc-3549-4c55-8156-2dc33364cf1e",
   "metadata": {},
   "outputs": [
    {
     "name": "stdin",
     "output_type": "stream",
     "text": [
      "Enter a string:  I am a indian\n"
     ]
    },
    {
     "name": "stdout",
     "output_type": "stream",
     "text": [
      "The entered string is not symmetrical\n"
     ]
    }
   ],
   "source": [
    "def is_symmetrical(input_str):\n",
    "    # Get the length of the string\n",
    "    length = len(input_str)\n",
    "    \n",
    "    # Compare the first half with the reversed second half\n",
    "    return input_str[:length//2] == input_str[-(length//2):][::-1]\n",
    "\n",
    "# Input the string from the keyboard\n",
    "input_string = input(\"Enter a string: \")\n",
    "\n",
    "# Check if the string is symmetrical\n",
    "if is_symmetrical(input_string):\n",
    "    print(\"The entered string is symmetrical\")\n",
    "else:\n",
    "    print(\"The entered string is not symmetrical\")"
   ]
  },
  {
   "cell_type": "markdown",
   "id": "74d53453-9fcb-4acb-aaa0-fa116763512a",
   "metadata": {},
   "source": [
    "problem 17: Reverse words in a given String\n",
    "Statement: We are given a string and we need to reverse words of a given string.\n",
    "\n",
    "Example 1:\n",
    "\n",
    "Input:\n",
    "\n",
    "geeks quiz practice code\n",
    "Output:\n",
    "\n",
    "code practice quiz geeks"
   ]
  },
  {
   "cell_type": "code",
   "execution_count": 7,
   "id": "4a7fa5ca-f645-4b44-b733-74c6ffc59e36",
   "metadata": {},
   "outputs": [
    {
     "name": "stdin",
     "output_type": "stream",
     "text": [
      "Enter a string:  I am a coder\n"
     ]
    },
    {
     "name": "stdout",
     "output_type": "stream",
     "text": [
      "Output:\n",
      "coder a am I\n"
     ]
    }
   ],
   "source": [
    "def reverse_words(input_str):\n",
    "    # Split the string into words\n",
    "    words = input_str.split()\n",
    "    \n",
    "    # Reverse the order of the words\n",
    "    reversed_words = words[::-1]\n",
    "    \n",
    "    # Join the reversed words back into a string\n",
    "    reversed_string = ' '.join(reversed_words)\n",
    "    \n",
    "    return reversed_string\n",
    "\n",
    "# Input the string from the keyboard\n",
    "input_string = input(\"Enter a string: \")\n",
    "\n",
    "# Reverse the words in the string\n",
    "reversed_string = reverse_words(input_string)\n",
    "\n",
    "# Print the result\n",
    "print(\"Output:\")\n",
    "print(reversed_string)"
   ]
  },
  {
   "cell_type": "markdown",
   "id": "9eee2bfc-9218-4bbb-8a44-54c3466a2bcf",
   "metadata": {},
   "source": [
    "Problem 18: Find uncommon words from two Strings.\n",
    "Statement: Given two sentences as strings A and B. The task is to return a list of all uncommon words. A word is uncommon if it appears exactly once in any one of the sentences, and does not appear in the other sentence. Note: A sentence is a string of space-separated words. Each word consists only of lowercase letters.\n",
    "\n",
    "Example 1:\n",
    "\n",
    "Input:\n",
    "\n",
    "A = \"apple banana mango\" \n",
    "B = \"banana fruits mango\"\n",
    "Output:\n",
    "\n",
    "['apple', 'fruits']\n"
   ]
  },
  {
   "cell_type": "code",
   "execution_count": 6,
   "id": "fc139a3c-baee-4e9d-b299-49803aa6ce64",
   "metadata": {},
   "outputs": [
    {
     "name": "stdin",
     "output_type": "stream",
     "text": [
      "Enter the first sentence:  hi hello how are you\n",
      "Enter the second sentence:  I am fine\n"
     ]
    },
    {
     "name": "stdout",
     "output_type": "stream",
     "text": [
      "Output:\n",
      "['hi', 'hello', 'how', 'are', 'you', 'I', 'am', 'fine']\n"
     ]
    }
   ],
   "source": [
    "def find_uncommon_words(sentence1, sentence2):\n",
    "    words1 = sentence1.split()\n",
    "    words2 = sentence2.split()\n",
    "    \n",
    "    frequency = {}\n",
    "    \n",
    "    # Count frequency of words in first sentence\n",
    "    for word in words1:\n",
    "        frequency[word] = frequency.get(word, 0) + 1\n",
    "    \n",
    "    # Count frequency of words in second sentence\n",
    "    for word in words2:\n",
    "        frequency[word] = frequency.get(word, 0) + 1\n",
    "    \n",
    "    # Select words with frequency of 1\n",
    "    uncommon_words = [word for word, freq in frequency.items() if freq == 1]\n",
    "    \n",
    "    return uncommon_words\n",
    "\n",
    "# Input sentences from the keyboard\n",
    "sentence1 = input(\"Enter the first sentence: \")\n",
    "sentence2 = input(\"Enter the second sentence: \")\n",
    "\n",
    "# Find uncommon words\n",
    "uncommon = find_uncommon_words(sentence1, sentence2)\n",
    "\n",
    "# Print the result\n",
    "print(\"Output:\")\n",
    "print(uncommon)"
   ]
  },
  {
   "cell_type": "markdown",
   "id": "9f6467a4-6342-4df4-b8b3-e10387551349",
   "metadata": {},
   "source": [
    "Problem 19: Word location in String.\n",
    "Statement: Find a location of a word in a given sentence.\n",
    "\n",
    "Example 1:\n",
    "\n",
    "Input:\n",
    "\n",
    "Sentence: We can learn data science through campusx mentorship program.\n",
    "\n",
    "word: campusx\n",
    "Output:\n",
    "\n",
    "Location of the word is 7."
   ]
  },
  {
   "cell_type": "code",
   "execution_count": 5,
   "id": "350f1630-5ca0-47f4-a62a-0d971fdb756c",
   "metadata": {},
   "outputs": [
    {
     "name": "stdin",
     "output_type": "stream",
     "text": [
      "Enter the sentence:  I am a coder\n",
      "Enter the word to find:  am\n"
     ]
    },
    {
     "name": "stdout",
     "output_type": "stream",
     "text": [
      "Location of the word is: 2\n"
     ]
    }
   ],
   "source": [
    "def find_word_location(sentence, word):\n",
    "    words = sentence.split()\n",
    "    location = None\n",
    "    \n",
    "    for i, w in enumerate(words, 1):\n",
    "        if w == word:\n",
    "            location = i\n",
    "            break\n",
    "    \n",
    "    return location\n",
    "\n",
    "# Input the sentence and word from the keyboard\n",
    "sentence = input(\"Enter the sentence: \")\n",
    "word = input(\"Enter the word to find: \")\n",
    "\n",
    "# Find the location of the word\n",
    "location = find_word_location(sentence, word)\n",
    "\n",
    "# Print the result\n",
    "if location is not None:\n",
    "    print(f\"Location of the word is: {location}\")\n",
    "else:\n",
    "    print(\"The word is not found in the sentence.\")"
   ]
  },
  {
   "cell_type": "markdown",
   "id": "f587930e-1818-401d-8b64-f95ba64ef0fc",
   "metadata": {},
   "source": [
    "Problem 20: Write a program that can remove all the duplicate characters from a string. User will provide the input."
   ]
  },
  {
   "cell_type": "code",
   "execution_count": 4,
   "id": "5b48309b-10f6-4bf3-879b-6c85748e96bd",
   "metadata": {},
   "outputs": [
    {
     "name": "stdin",
     "output_type": "stream",
     "text": [
      "Enter a string:  hi hello how are you\n"
     ]
    },
    {
     "name": "stdout",
     "output_type": "stream",
     "text": [
      "String after removing duplicates: hi elowaryu\n"
     ]
    }
   ],
   "source": [
    "def remove_duplicates(input_str):\n",
    "    # Create an empty set to store unique characters\n",
    "    unique_chars = set()\n",
    "    \n",
    "    # Initialize an empty string to store the result\n",
    "    result = \"\"\n",
    "    \n",
    "    # Iterate over each character in the input string\n",
    "    for char in input_str:\n",
    "        # If the character is not in the unique_chars set, add it to the result string and the set\n",
    "        if char not in unique_chars:\n",
    "            result += char\n",
    "            unique_chars.add(char)\n",
    "    \n",
    "    return result\n",
    "\n",
    "# Input the string from the keyboard\n",
    "input_string = input(\"Enter a string: \")\n",
    "\n",
    "# Remove duplicates from the string\n",
    "result_string = remove_duplicates(input_string)\n",
    "\n",
    "# Print the result\n",
    "print(\"String after removing duplicates:\",result_string)"
   ]
  },
  {
   "cell_type": "code",
   "execution_count": null,
   "id": "eb0929a5-397a-49bd-b1be-7ed4b825a0e6",
   "metadata": {},
   "outputs": [],
   "source": []
  }
 ],
 "metadata": {
  "kernelspec": {
   "display_name": "Python 3 (ipykernel)",
   "language": "python",
   "name": "python3"
  },
  "language_info": {
   "codemirror_mode": {
    "name": "ipython",
    "version": 3
   },
   "file_extension": ".py",
   "mimetype": "text/x-python",
   "name": "python",
   "nbconvert_exporter": "python",
   "pygments_lexer": "ipython3",
   "version": "3.11.7"
  }
 },
 "nbformat": 4,
 "nbformat_minor": 5
}
